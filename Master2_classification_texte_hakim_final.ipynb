{
  "nbformat": 4,
  "nbformat_minor": 0,
  "metadata": {
    "colab": {
      "provenance": [],
      "gpuType": "T4"
    },
    "kernelspec": {
      "name": "python3",
      "display_name": "Python 3"
    },
    "language_info": {
      "name": "python"
    },
    "accelerator": "GPU"
  },
  "cells": [
    {
      "cell_type": "code",
      "execution_count": 1,
      "metadata": {
        "id": "IcQw08lNP1hs",
        "colab": {
          "base_uri": "https://localhost:8080/"
        },
        "outputId": "ebadb9f1-e55b-4257-81b8-ba42c92893cc"
      },
      "outputs": [
        {
          "output_type": "stream",
          "name": "stdout",
          "text": [
            "Requirement already satisfied: kaggle in /usr/local/lib/python3.10/dist-packages (1.6.14)\n",
            "Requirement already satisfied: six>=1.10 in /usr/local/lib/python3.10/dist-packages (from kaggle) (1.16.0)\n",
            "Requirement already satisfied: certifi>=2023.7.22 in /usr/local/lib/python3.10/dist-packages (from kaggle) (2024.6.2)\n",
            "Requirement already satisfied: python-dateutil in /usr/local/lib/python3.10/dist-packages (from kaggle) (2.8.2)\n",
            "Requirement already satisfied: requests in /usr/local/lib/python3.10/dist-packages (from kaggle) (2.31.0)\n",
            "Requirement already satisfied: tqdm in /usr/local/lib/python3.10/dist-packages (from kaggle) (4.66.4)\n",
            "Requirement already satisfied: python-slugify in /usr/local/lib/python3.10/dist-packages (from kaggle) (8.0.4)\n",
            "Requirement already satisfied: urllib3 in /usr/local/lib/python3.10/dist-packages (from kaggle) (2.0.7)\n",
            "Requirement already satisfied: bleach in /usr/local/lib/python3.10/dist-packages (from kaggle) (6.1.0)\n",
            "Requirement already satisfied: webencodings in /usr/local/lib/python3.10/dist-packages (from bleach->kaggle) (0.5.1)\n",
            "Requirement already satisfied: text-unidecode>=1.3 in /usr/local/lib/python3.10/dist-packages (from python-slugify->kaggle) (1.3)\n",
            "Requirement already satisfied: charset-normalizer<4,>=2 in /usr/local/lib/python3.10/dist-packages (from requests->kaggle) (3.3.2)\n",
            "Requirement already satisfied: idna<4,>=2.5 in /usr/local/lib/python3.10/dist-packages (from requests->kaggle) (3.7)\n",
            "Dataset URL: https://www.kaggle.com/datasets/lakshmi25npathi/imdb-dataset-of-50k-movie-reviews\n",
            "License(s): other\n",
            "Downloading imdb-dataset-of-50k-movie-reviews.zip to /content\n",
            " 86% 22.0M/25.7M [00:01<00:00, 32.6MB/s]\n",
            "100% 25.7M/25.7M [00:01<00:00, 22.4MB/s]\n",
            "Archive:  imdb-dataset-of-50k-movie-reviews.zip\n",
            "  inflating: IMDB Dataset.csv        \n"
          ]
        }
      ],
      "source": [
        "!pip install kaggle\n",
        "\n",
        "!kaggle datasets download -d lakshmi25npathi/imdb-dataset-of-50k-movie-reviews\n",
        "\n",
        "!unzip imdb-dataset-of-50k-movie-reviews.zip"
      ]
    },
    {
      "cell_type": "code",
      "source": [
        "# Model\n",
        "from tensorflow.keras.models import Sequential\n",
        "from tensorflow.keras.layers import Embedding, LSTM, Dense, Dropout\n",
        "from keras.callbacks import EarlyStopping\n",
        "from keras.callbacks import ReduceLROnPlateau\n",
        "from tensorflow.keras.preprocessing.text import Tokenizer\n",
        "from tensorflow.keras.preprocessing.sequence import pad_sequences\n",
        "from sklearn.preprocessing import LabelEncoder\n",
        "from sklearn.model_selection import train_test_split\n",
        "from sklearn.metrics import accuracy_score, precision_score, recall_score, f1_score\n",
        "from sklearn.metrics import roc_curve\n",
        "from sklearn.metrics import roc_auc_score\n",
        "from sklearn.metrics import confusion_matrix\n",
        "import re\n",
        "from bs4 import BeautifulSoup\n",
        "\n",
        "\n",
        "# Data\n",
        "import pandas as pd\n",
        "import numpy as np\n",
        "\n",
        "# NLP\n",
        "import nltk\n",
        "from nltk.stem import WordNetLemmatizer, PorterStemmer\n",
        "from nltk.tokenize import word_tokenize, wordpunct_tokenize\n",
        "from nltk.corpus import words\n",
        "from nltk.corpus import stopwords\n",
        "from nltk.tokenize import RegexpTokenizer\n",
        "\n",
        "nltk.download('stopwords')\n",
        "nltk.download('wordnet')\n",
        "nltk.download('omw-1.4')\n",
        "nltk.download('punkt')\n",
        "\n",
        "# viz\n",
        "import matplotlib.pyplot as plt"
      ],
      "metadata": {
        "id": "HxMiQc_BQs9o",
        "colab": {
          "base_uri": "https://localhost:8080/"
        },
        "outputId": "7f1914c3-d8f4-4702-ea22-2c51c6d9de25"
      },
      "execution_count": 2,
      "outputs": [
        {
          "output_type": "stream",
          "name": "stderr",
          "text": [
            "[nltk_data] Downloading package stopwords to /root/nltk_data...\n",
            "[nltk_data]   Unzipping corpora/stopwords.zip.\n",
            "[nltk_data] Downloading package wordnet to /root/nltk_data...\n",
            "[nltk_data] Downloading package omw-1.4 to /root/nltk_data...\n",
            "[nltk_data] Downloading package punkt to /root/nltk_data...\n",
            "[nltk_data]   Unzipping tokenizers/punkt.zip.\n"
          ]
        }
      ]
    },
    {
      "cell_type": "code",
      "source": [
        "df = pd.read_csv('IMDB Dataset.csv')"
      ],
      "metadata": {
        "id": "7ZmpHYpWQ9bn"
      },
      "execution_count": 3,
      "outputs": []
    },
    {
      "cell_type": "code",
      "source": [
        "df['sentiment'].value_counts().plot.pie(autopct='%1.1f%%')\n",
        "plt.show()"
      ],
      "metadata": {
        "colab": {
          "base_uri": "https://localhost:8080/",
          "height": 406
        },
        "id": "7ZI2rKzDZqrc",
        "outputId": "d415a730-3311-4a5b-8d7d-0b33e5fab52f"
      },
      "execution_count": 4,
      "outputs": [
        {
          "output_type": "display_data",
          "data": {
            "text/plain": [
              "<Figure size 640x480 with 1 Axes>"
            ],
            "image/png": "[encoded data removed]"
          },
          "metadata": {}
        }
      ]
    },
    {
      "cell_type": "code",
      "source": [
        "# Fonction pour supprimer les éléments HTML\n",
        "def remove_html_tags(text):\n",
        "    soup = BeautifulSoup(text, \"html.parser\")\n",
        "    return soup.get_text()\n",
        "\n",
        "df['review'] = df['review'].apply(remove_html_tags)\n"
      ],
      "metadata": {
        "colab": {
          "base_uri": "https://localhost:8080/"
        },
        "id": "to4_a7ZPREPr",
        "outputId": "4e7730ce-d6f5-44f2-f67d-c8a59a3b97b7"
      },
      "execution_count": 5,
      "outputs": [
        {
          "output_type": "stream",
          "name": "stderr",
          "text": [
            "<ipython-input-5-532e725e164b>:3: MarkupResemblesLocatorWarning: The input looks more like a filename than markup. You may want to open this file and pass the filehandle into Beautiful Soup.\n",
            "  soup = BeautifulSoup(text, \"html.parser\")\n"
          ]
        }
      ]
    },
    {
      "cell_type": "code",
      "source": [
        "def remove_punctuation(text):\n",
        "    return re.sub(r'[^\\w\\s]', '', text)\n",
        "\n",
        "df['review'] = df['review'].apply(remove_punctuation)"
      ],
      "metadata": {
        "id": "_J7SWWqiSPhh"
      },
      "execution_count": 6,
      "outputs": []
    },
    {
      "cell_type": "code",
      "source": [
        "def lower_case(text):\n",
        "    return text.lower()\n",
        "\n",
        "df['review'] = df['review'].apply(lower_case)"
      ],
      "metadata": {
        "id": "HjZUlWNZTRvc"
      },
      "execution_count": 7,
      "outputs": []
    },
    {
      "cell_type": "code",
      "source": [
        "# Stop word\n",
        "stop_words = set(stopwords.words('english'))\n",
        "\n",
        "# suppression des stop words.\n",
        "def remove_stop_words(text):\n",
        "    words = text.split()\n",
        "    filtered_words = [word for word in words if word not in stop_words]\n",
        "    return ' '.join(filtered_words)\n",
        "\n",
        "df['review'] = df['review'].apply(remove_stop_words)"
      ],
      "metadata": {
        "id": "fF52ta77aC4_"
      },
      "execution_count": 8,
      "outputs": []
    },
    {
      "cell_type": "code",
      "source": [
        "def lemmatize_text(text):\n",
        "    lemmatizer = WordNetLemmatizer()\n",
        "    words = word_tokenize(text)\n",
        "    lemmatized_words = [lemmatizer.lemmatize(word) for word in words]\n",
        "    return ' '.join(lemmatized_words)\n",
        "\n",
        "df['review'] = df['review'].apply(lemmatize_text)"
      ],
      "metadata": {
        "id": "CVbwlfYeaVUK"
      },
      "execution_count": 9,
      "outputs": []
    },
    {
      "cell_type": "code",
      "source": [
        "raw_corpus = \"\".join(df.review.values)"
      ],
      "metadata": {
        "id": "BixDCxpwb0j0"
      },
      "execution_count": 10,
      "outputs": []
    },
    {
      "cell_type": "code",
      "source": [
        "from collections import Counter\n",
        "\n",
        "# Combiner toutes les critiques en un seul texte\n",
        "all_reviews = ' '.join(df['review']).lower()\n",
        "\n",
        "# Compter la fréquence de chaque mot\n",
        "words = re.findall(r'\\b\\w+\\b', all_reviews)\n",
        "word_counts = Counter(words)\n",
        "\n",
        "# Filtrer les mots qui apparaissent plus de 5 fois\n",
        "frequent_words = {word for word, count in word_counts.items() if count > 5}\n",
        "\n",
        "# Fonction pour filtrer les mots dans chaque commentaire\n",
        "def filter_review(review, frequent_words):\n",
        "    words = review.lower().split()\n",
        "    filtered_words = [word for word in words if word in frequent_words]\n",
        "    return ' '.join(filtered_words)\n",
        "\n",
        "# Appliquer la fonction à chaque commentaire\n",
        "df['filtered_review'] = df['review'].apply(filter_review, args=(frequent_words,))"
      ],
      "metadata": {
        "id": "1irn2cNYbTR0"
      },
      "execution_count": 11,
      "outputs": []
    },
    {
      "cell_type": "code",
      "source": [
        "raw_corpus = \"\".join(df.review.values)\n",
        "# Diviser le corpus brut en mots individuels\n",
        "words = raw_corpus.split()\n",
        "\n",
        "# Utiliser un ensemble pour obtenir les mots uniques\n",
        "unique_words = set(words)\n",
        "\n",
        "# Compter le nombre de mots uniques\n",
        "num_unique_words = len(unique_words)\n",
        "\n",
        "# Afficher le nombre de mots uniques\n",
        "print(\"Nombre de mots uniques dans le corpus brut :\", num_unique_words)"
      ],
      "metadata": {
        "colab": {
          "base_uri": "https://localhost:8080/"
        },
        "id": "ZCW8zO-zb1Qk",
        "outputId": "f14ffca0-1f2c-4d8a-e5ba-4126c3b07e6a"
      },
      "execution_count": 12,
      "outputs": [
        {
          "output_type": "stream",
          "name": "stdout",
          "text": [
            "Nombre de mots uniques dans le corpus brut : 250551\n"
          ]
        }
      ]
    },
    {
      "cell_type": "code",
      "source": [
        "raw_corpus = \"\".join(df.filtered_review.values)\n",
        "# Diviser le corpus brut en mots individuels\n",
        "words = raw_corpus.split()\n",
        "\n",
        "# Utiliser un ensemble pour obtenir les mots uniques\n",
        "unique_words = set(words)\n",
        "\n",
        "# Compter le nombre de mots uniques\n",
        "num_unique_words = len(unique_words)\n",
        "\n",
        "# Afficher le nombre de mots uniques\n",
        "print(\"Nombre de mots uniques dans le corpus brut :\", num_unique_words)"
      ],
      "metadata": {
        "colab": {
          "base_uri": "https://localhost:8080/"
        },
        "id": "7n7pAli7b9wu",
        "outputId": "3c59a8de-0d7d-4f5f-f916-2fae3ef05edd"
      },
      "execution_count": 13,
      "outputs": [
        {
          "output_type": "stream",
          "name": "stdout",
          "text": [
            "Nombre de mots uniques dans le corpus brut : 78532\n"
          ]
        }
      ]
    },
    {
      "cell_type": "code",
      "source": [
        "raw_corpus = \"\".join(df.filtered_review.values)"
      ],
      "metadata": {
        "id": "oIFPaL8wc5ix"
      },
      "execution_count": 14,
      "outputs": []
    },
    {
      "cell_type": "code",
      "source": [
        "# tokenize of raw_coprus\n",
        "tokenizer = RegexpTokenizer(r'\\w+')\n",
        "tokens = tokenizer.tokenize(raw_corpus)"
      ],
      "metadata": {
        "id": "YQsZ2hhRcCs1"
      },
      "execution_count": 15,
      "outputs": []
    },
    {
      "cell_type": "code",
      "source": [
        "# Utilisez pad_sequences de Keras pour que toutes les séquences aient la même longueur.\n",
        "# Préparer les commentaires pour la tokenisation\n",
        "reviews = df['filtered_review'].tolist()\n",
        "\n",
        "# Initialiser et adapter le Tokenizer\n",
        "tokenizer = Tokenizer()\n",
        "tokenizer.fit_on_texts(reviews)\n",
        "\n",
        "# Convertir les commentaires en séquences de tokens\n",
        "sequences = tokenizer.texts_to_sequences(reviews)\n",
        "\n",
        "# Définir la longueur maximale des séquences\n",
        "max_length = 400\n",
        "\n",
        "# Appliquer le padding aux séquences\n",
        "padded_sequences = pad_sequences(sequences, maxlen=max_length, padding='post')"
      ],
      "metadata": {
        "id": "uMLYaxEPboNQ"
      },
      "execution_count": 16,
      "outputs": []
    },
    {
      "cell_type": "code",
      "source": [
        "# Histogramme de la longueur des séquences de mots\n",
        "seq_lengths = [len(seq) for seq in sequences]\n",
        "plt.hist(seq_lengths, bins=50)\n",
        "plt.xlabel('Length of sequences')\n",
        "plt.ylabel('Frequency')\n",
        "plt.title('Distribution of sequence lengths')\n",
        "plt.show()"
      ],
      "metadata": {
        "colab": {
          "base_uri": "https://localhost:8080/",
          "height": 472
        },
        "id": "_Mm1Opz9Y-kV",
        "outputId": "61e9c6db-f68d-4a8a-f7cf-0f99917525fa"
      },
      "execution_count": 17,
      "outputs": [
        {
          "output_type": "display_data",
          "data": {
            "text/plain": [
              "<Figure size 640x480 with 1 Axes>"
            ],
            "image/png": "[encoded data removed]"
          },
          "metadata": {}
        }
      ]
    },
    {
      "cell_type": "code",
      "source": [
        "# Histogramme des fréquences des mots différents\n",
        "word_counts = tokenizer.word_counts.values()\n",
        "plt.hist(word_counts, bins=50)\n",
        "plt.xlabel('Word frequency')\n",
        "plt.ylabel('Number of words')\n",
        "plt.title('Distribution of word frequencies')\n",
        "plt.xlim([0, 5000])\n",
        "plt.show()"
      ],
      "metadata": {
        "colab": {
          "base_uri": "https://localhost:8080/",
          "height": 472
        },
        "id": "CPuU9nj5ZI67",
        "outputId": "bdfb6715-571f-4927-fc15-a123ea00a474"
      },
      "execution_count": 18,
      "outputs": [
        {
          "output_type": "display_data",
          "data": {
            "text/plain": [
              "<Figure size 640x480 with 1 Axes>"
            ],
            "image/png": "[encoded data removed]"
          },
          "metadata": {}
        }
      ]
    },
    {
      "cell_type": "code",
      "source": [
        "# Utilisez LabelEncoder de sklearn pour transformer les labels catégoriels en valeurs numériques.\n",
        "label_encoder = LabelEncoder()\n",
        "labels = label_encoder.fit_transform(df['sentiment'])\n",
        "\n",
        "df['sentiment'] = labels"
      ],
      "metadata": {
        "id": "wfgowyveZd-H"
      },
      "execution_count": 19,
      "outputs": []
    },
    {
      "cell_type": "code",
      "source": [
        "X = padded_sequences\n",
        "y = df['sentiment'].values"
      ],
      "metadata": {
        "id": "hJRXW3lCdgu1"
      },
      "execution_count": 20,
      "outputs": []
    },
    {
      "cell_type": "code",
      "source": [
        "X_train, X_test, Y_train, Y_test = train_test_split(X, y, test_size=0.2, shuffle=False)"
      ],
      "metadata": {
        "id": "QNIWnGy731mq"
      },
      "execution_count": 21,
      "outputs": []
    },
    {
      "cell_type": "code",
      "source": [
        "early_stopping = EarlyStopping(monitor='val_loss', patience=5, restore_best_weights=True)"
      ],
      "metadata": {
        "id": "yrFaqkL933df"
      },
      "execution_count": 22,
      "outputs": []
    },
    {
      "cell_type": "code",
      "source": [
        "# Définir le callback ReduceLROnPlateau\n",
        "reduce_lr = ReduceLROnPlateau(\n",
        "    monitor='val_loss',    # La métrique à surveiller\n",
        "    factor=0.2,            # Facteur par lequel le taux d'apprentissage sera réduit\n",
        "    patience=5,            # Nombre d'époques avec no amélioration après lesquelles le taux sera réduit\n",
        "    min_lr=0.001           # Le taux d'apprentissage minimum\n",
        ")"
      ],
      "metadata": {
        "id": "JWu-JLqy35G9"
      },
      "execution_count": 23,
      "outputs": []
    },
    {
      "cell_type": "code",
      "source": [
        "model_lstm = Sequential([\n",
        "    Embedding(input_dim=78532, output_dim=128),\n",
        "    LSTM(128, return_sequences=True),\n",
        "    Dropout(0.2),\n",
        "    LSTM(64),\n",
        "    Dropout(0.2),\n",
        "    Dense(1, activation='sigmoid')# à vous de voir\n",
        "])"
      ],
      "metadata": {
        "id": "Cd41Pnwb36e5"
      },
      "execution_count": 24,
      "outputs": []
    },
    {
      "cell_type": "code",
      "source": [
        "model_lstm.compile(optimizer='adam', loss='binary_crossentropy', metrics=['accuracy'])"
      ],
      "metadata": {
        "id": "VT71TqWQ38Fq"
      },
      "execution_count": 25,
      "outputs": []
    },
    {
      "cell_type": "code",
      "source": [
        "model_lstm.fit(X_train, Y_train, epochs=100, batch_size=32, verbose=2, validation_split=0.2, callbacks=[early_stopping, reduce_lr])"
      ],
      "metadata": {
        "colab": {
          "base_uri": "https://localhost:8080/"
        },
        "id": "fXd9t7UB392q",
        "outputId": "0163dc92-b23e-48f1-a300-602ded748b46"
      },
      "execution_count": 26,
      "outputs": [
        {
          "output_type": "stream",
          "name": "stdout",
          "text": [
            "Epoch 1/100\n",
            "1000/1000 - 94s - loss: 0.6936 - accuracy: 0.5013 - val_loss: 0.6947 - val_accuracy: 0.5026 - lr: 0.0010 - 94s/epoch - 94ms/step\n",
            "Epoch 2/100\n",
            "1000/1000 - 48s - loss: 0.6939 - accuracy: 0.5050 - val_loss: 0.6941 - val_accuracy: 0.4974 - lr: 0.0010 - 48s/epoch - 48ms/step\n",
            "Epoch 3/100\n",
            "1000/1000 - 36s - loss: 0.6937 - accuracy: 0.5034 - val_loss: 0.6933 - val_accuracy: 0.5035 - lr: 0.0010 - 36s/epoch - 36ms/step\n",
            "Epoch 4/100\n",
            "1000/1000 - 35s - loss: 0.6923 - accuracy: 0.5015 - val_loss: 0.6944 - val_accuracy: 0.4978 - lr: 0.0010 - 35s/epoch - 35ms/step\n",
            "Epoch 5/100\n",
            "1000/1000 - 32s - loss: 0.6884 - accuracy: 0.5083 - val_loss: 0.6931 - val_accuracy: 0.5035 - lr: 0.0010 - 32s/epoch - 32ms/step\n",
            "Epoch 6/100\n",
            "1000/1000 - 35s - loss: 0.6867 - accuracy: 0.5075 - val_loss: 0.6932 - val_accuracy: 0.4986 - lr: 0.0010 - 35s/epoch - 35ms/step\n",
            "Epoch 7/100\n",
            "1000/1000 - 31s - loss: 0.6730 - accuracy: 0.5518 - val_loss: 0.6140 - val_accuracy: 0.6952 - lr: 0.0010 - 31s/epoch - 31ms/step\n",
            "Epoch 8/100\n",
            "1000/1000 - 32s - loss: 0.5419 - accuracy: 0.7477 - val_loss: 0.5201 - val_accuracy: 0.7997 - lr: 0.0010 - 32s/epoch - 32ms/step\n",
            "Epoch 9/100\n",
            "1000/1000 - 32s - loss: 0.3873 - accuracy: 0.8395 - val_loss: 0.3852 - val_accuracy: 0.8480 - lr: 0.0010 - 32s/epoch - 32ms/step\n",
            "Epoch 10/100\n",
            "1000/1000 - 30s - loss: 0.2893 - accuracy: 0.8923 - val_loss: 0.3931 - val_accuracy: 0.8457 - lr: 0.0010 - 30s/epoch - 30ms/step\n",
            "Epoch 11/100\n",
            "1000/1000 - 31s - loss: 0.2696 - accuracy: 0.9049 - val_loss: 0.3722 - val_accuracy: 0.8579 - lr: 0.0010 - 31s/epoch - 31ms/step\n",
            "Epoch 12/100\n",
            "1000/1000 - 33s - loss: 0.2041 - accuracy: 0.9319 - val_loss: 0.3664 - val_accuracy: 0.8522 - lr: 0.0010 - 33s/epoch - 33ms/step\n",
            "Epoch 13/100\n",
            "1000/1000 - 30s - loss: 0.1670 - accuracy: 0.9475 - val_loss: 0.3612 - val_accuracy: 0.8666 - lr: 0.0010 - 30s/epoch - 30ms/step\n",
            "Epoch 14/100\n",
            "1000/1000 - 30s - loss: 0.1438 - accuracy: 0.9566 - val_loss: 0.3580 - val_accuracy: 0.8673 - lr: 0.0010 - 30s/epoch - 30ms/step\n",
            "Epoch 15/100\n",
            "1000/1000 - 33s - loss: 0.1400 - accuracy: 0.9558 - val_loss: 0.3898 - val_accuracy: 0.8712 - lr: 0.0010 - 33s/epoch - 33ms/step\n",
            "Epoch 16/100\n",
            "1000/1000 - 30s - loss: 0.1053 - accuracy: 0.9693 - val_loss: 0.4068 - val_accuracy: 0.8709 - lr: 0.0010 - 30s/epoch - 30ms/step\n",
            "Epoch 17/100\n",
            "1000/1000 - 30s - loss: 0.0714 - accuracy: 0.9803 - val_loss: 0.4982 - val_accuracy: 0.8609 - lr: 0.0010 - 30s/epoch - 30ms/step\n",
            "Epoch 18/100\n",
            "1000/1000 - 29s - loss: 0.0541 - accuracy: 0.9868 - val_loss: 0.5282 - val_accuracy: 0.8714 - lr: 0.0010 - 29s/epoch - 29ms/step\n",
            "Epoch 19/100\n",
            "1000/1000 - 30s - loss: 0.0427 - accuracy: 0.9899 - val_loss: 0.5436 - val_accuracy: 0.8612 - lr: 0.0010 - 30s/epoch - 30ms/step\n"
          ]
        },
        {
          "output_type": "execute_result",
          "data": {
            "text/plain": [
              "<keras.src.callbacks.History at 0x7c2c3f691870>"
            ]
          },
          "metadata": {},
          "execution_count": 26
        }
      ]
    },
    {
      "cell_type": "code",
      "source": [
        "# Utilisez confusion_matrix de sklearn pour calculer la matrice de confusion de chaque modèle sur le jeu de test.\n",
        "model_lstm.evaluate(X_test, Y_test)"
      ],
      "metadata": {
        "id": "-LY_Ma1Vd_bY",
        "colab": {
          "base_uri": "https://localhost:8080/"
        },
        "outputId": "9bac5762-32b0-4bca-bb6b-4c70504dd88e"
      },
      "execution_count": 27,
      "outputs": [
        {
          "output_type": "stream",
          "name": "stdout",
          "text": [
            "313/313 [==============================] - 5s 12ms/step - loss: 0.3391 - accuracy: 0.8740\n"
          ]
        },
        {
          "output_type": "execute_result",
          "data": {
            "text/plain": [
              "[0.3391359746456146, 0.8740000128746033]"
            ]
          },
          "metadata": {},
          "execution_count": 27
        }
      ]
    },
    {
      "cell_type": "code",
      "source": [
        "y_pred = model_lstm.predict(X_test)"
      ],
      "metadata": {
        "id": "MoFC8YHKeRjN",
        "colab": {
          "base_uri": "https://localhost:8080/"
        },
        "outputId": "4e82d420-6a6f-4aa3-a37c-a05dbcd35dab"
      },
      "execution_count": 28,
      "outputs": [
        {
          "output_type": "stream",
          "name": "stdout",
          "text": [
            "313/313 [==============================] - 5s 12ms/step\n"
          ]
        }
      ]
    },
    {
      "cell_type": "code",
      "source": [
        "# afficher la roc_curve\n",
        "plt.figure(figsize=(8, 8))\n",
        "fpr, tpr, thresholds = roc_curve(Y_test, y_pred)\n",
        "plt.plot(fpr, tpr, \"o\")\n",
        "plt.xlabel('False Positive Rate')\n",
        "plt.ylabel('True Positive Rate')\n",
        "plt.title('ROC Curve')\n",
        "plt.show()"
      ],
      "metadata": {
        "colab": {
          "base_uri": "https://localhost:8080/",
          "height": 718
        },
        "id": "2aKc9_OR9ZZi",
        "outputId": "1a5512f1-f794-45e8-87df-d0955ed8e754"
      },
      "execution_count": 48,
      "outputs": [
        {
          "output_type": "display_data",
          "data": {
            "text/plain": [
              "<Figure size 800x800 with 1 Axes>"
            ],
            "image/png": "[encoded data removed]"
          },
          "metadata": {}
        }
      ]
    },
    {
      "cell_type": "code",
      "source": [
        "print(fpr[1000])\n",
        "print(tpr[1000])\n",
        "print(thresholds[1000])"
      ],
      "metadata": {
        "colab": {
          "base_uri": "https://localhost:8080/"
        },
        "id": "R8KnWKfFAa5Y",
        "outputId": "dce96161-0ee9-4cc0-ed05-6730a8775f06"
      },
      "execution_count": 55,
      "outputs": [
        {
          "output_type": "stream",
          "name": "stdout",
          "text": [
            "0.07490486681353896\n",
            "0.7853005791891352\n",
            "0.9080795\n"
          ]
        }
      ]
    },
    {
      "cell_type": "code",
      "source": [
        "# trouver le meilleur threshold\n",
        "best_threshold = 0\n",
        "best_f1 = 0\n",
        "\n",
        "for threshold in thresholds:\n",
        "    y_pred_binary = (y_pred > threshold).astype(int)\n",
        "    f1 = f1_score(Y_test, y_pred_binary)\n",
        "    if f1 > best_f1:\n",
        "        best_threshold = threshold\n",
        "        best_f1 = f1\n"
      ],
      "metadata": {
        "id": "aPxjUwOi-B4i"
      },
      "execution_count": 38,
      "outputs": []
    },
    {
      "cell_type": "code",
      "source": [
        "print(best_threshold)\n",
        "print(best_f1)"
      ],
      "metadata": {
        "colab": {
          "base_uri": "https://localhost:8080/"
        },
        "id": "DQfP_GP--U-y",
        "outputId": "12e9bb30-7425-460d-faa7-92b537788cd2"
      },
      "execution_count": 39,
      "outputs": [
        {
          "output_type": "stream",
          "name": "stdout",
          "text": [
            "0.40822637\n",
            "0.880996399727547\n"
          ]
        }
      ]
    },
    {
      "cell_type": "code",
      "source": [
        "# Convert predicted probabilities to binary predictions (0 or 1)\n",
        "y_pred_binary = (y_pred > best_threshold).astype(int)\n",
        "\n",
        "accuracy = accuracy_score(Y_test, y_pred_binary)\n",
        "print(accuracy)"
      ],
      "metadata": {
        "id": "RK2R9sk2eIq5",
        "colab": {
          "base_uri": "https://localhost:8080/"
        },
        "outputId": "d5592e3e-97c4-467e-bc60-e8598e6685ce"
      },
      "execution_count": 56,
      "outputs": [
        {
          "output_type": "stream",
          "name": "stdout",
          "text": [
            "0.8777\n"
          ]
        }
      ]
    },
    {
      "cell_type": "code",
      "source": [
        "precision = precision_score(Y_test, y_pred_binary)\n",
        "print(precision)"
      ],
      "metadata": {
        "colab": {
          "base_uri": "https://localhost:8080/"
        },
        "id": "oAtS9NJP-kyq",
        "outputId": "3fffddeb-946f-4be9-e530-c0a54caf9671"
      },
      "execution_count": 57,
      "outputs": [
        {
          "output_type": "stream",
          "name": "stdout",
          "text": [
            "0.8590132827324478\n"
          ]
        }
      ]
    },
    {
      "cell_type": "code",
      "source": [
        "f1 = f1_score(Y_test, y_pred_binary)\n",
        "print(f1)"
      ],
      "metadata": {
        "colab": {
          "base_uri": "https://localhost:8080/"
        },
        "id": "g4PsEc8E_YoR",
        "outputId": "8b6dbffb-7595-427f-f265-fef588be8411"
      },
      "execution_count": 58,
      "outputs": [
        {
          "output_type": "stream",
          "name": "stdout",
          "text": [
            "0.880996399727547\n"
          ]
        }
      ]
    },
    {
      "cell_type": "code",
      "source": [
        "recall = recall_score(Y_test, y_pred_binary)\n",
        "print(recall)"
      ],
      "metadata": {
        "colab": {
          "base_uri": "https://localhost:8080/"
        },
        "id": "FGCJZXnXCIr1",
        "outputId": "3d3ebdce-4c91-405c-f7ab-50ea13c54deb"
      },
      "execution_count": 60,
      "outputs": [
        {
          "output_type": "stream",
          "name": "stdout",
          "text": [
            "0.9041342121030557\n"
          ]
        }
      ]
    },
    {
      "cell_type": "markdown",
      "source": [
        "# LSTM AVEC ATTENTION\n"
      ],
      "metadata": {
        "id": "e8VJ79myEAeP"
      }
    },
    {
      "cell_type": "code",
      "source": [
        "# Ajouter a mon model lstm de l'attention\n",
        "from tensorflow.keras.layers import Attention, Input, Flatten\n",
        "from tensorflow.keras.models import Model"
      ],
      "metadata": {
        "id": "cR2zo_VNEok3"
      },
      "execution_count": 66,
      "outputs": []
    },
    {
      "cell_type": "code",
      "source": [
        "input_layer = Input(shape=(400,))\n",
        "embedding_layer = Embedding(input_dim=78532, output_dim=128)(input_layer)\n",
        "lstm_layer = LSTM(128, return_sequences=True)(embedding_layer)\n",
        "attention_layer = Attention()([lstm_layer, lstm_layer])\n",
        "\n",
        "attention_layer = Flatten()(attention_layer)\n",
        "output_layer = Dense(1, activation='sigmoid')(attention_layer)\n",
        "\n",
        "model_lstm_attention = Model(inputs=input_layer, outputs=output_layer)"
      ],
      "metadata": {
        "id": "ufbReJgXEsI0"
      },
      "execution_count": 68,
      "outputs": []
    },
    {
      "cell_type": "code",
      "source": [
        "model_lstm_attention.compile(optimizer='adam', loss='binary_crossentropy', metrics=['accuracy'])"
      ],
      "metadata": {
        "id": "k0Q1FBibF9po"
      },
      "execution_count": 69,
      "outputs": []
    },
    {
      "cell_type": "code",
      "source": [
        "model_lstm_attention.fit(X_train, Y_train, epochs=100, batch_size=32, verbose=2, validation_split=0.2, callbacks=[early_stopping, reduce_lr])"
      ],
      "metadata": {
        "colab": {
          "base_uri": "https://localhost:8080/"
        },
        "id": "x9psTqRnHcyt",
        "outputId": "778380cb-e253-4421-ba6e-aae655bca9f2"
      },
      "execution_count": 70,
      "outputs": [
        {
          "output_type": "stream",
          "name": "stdout",
          "text": [
            "Epoch 1/100\n",
            "1000/1000 - 83s - loss: 0.3487 - accuracy: 0.8439 - val_loss: 0.2767 - val_accuracy: 0.8941 - lr: 0.0010 - 83s/epoch - 83ms/step\n",
            "Epoch 2/100\n",
            "1000/1000 - 39s - loss: 0.1559 - accuracy: 0.9409 - val_loss: 0.3282 - val_accuracy: 0.8811 - lr: 0.0010 - 39s/epoch - 39ms/step\n",
            "Epoch 3/100\n",
            "1000/1000 - 29s - loss: 0.0761 - accuracy: 0.9725 - val_loss: 0.4178 - val_accuracy: 0.8751 - lr: 0.0010 - 29s/epoch - 29ms/step\n",
            "Epoch 4/100\n",
            "1000/1000 - 26s - loss: 0.0424 - accuracy: 0.9855 - val_loss: 0.6032 - val_accuracy: 0.8742 - lr: 0.0010 - 26s/epoch - 26ms/step\n",
            "Epoch 5/100\n",
            "1000/1000 - 25s - loss: 0.0288 - accuracy: 0.9906 - val_loss: 0.7505 - val_accuracy: 0.8721 - lr: 0.0010 - 25s/epoch - 25ms/step\n",
            "Epoch 6/100\n",
            "1000/1000 - 24s - loss: 0.0237 - accuracy: 0.9927 - val_loss: 0.9233 - val_accuracy: 0.8673 - lr: 0.0010 - 24s/epoch - 24ms/step\n"
          ]
        },
        {
          "output_type": "execute_result",
          "data": {
            "text/plain": [
              "<keras.src.callbacks.History at 0x7c2c3f333be0>"
            ]
          },
          "metadata": {},
          "execution_count": 70
        }
      ]
    },
    {
      "cell_type": "code",
      "source": [
        "model_lstm_attention.evaluate(X_test, Y_test)"
      ],
      "metadata": {
        "id": "wjPOVcW1eyvO",
        "colab": {
          "base_uri": "https://localhost:8080/"
        },
        "outputId": "1c23fe06-120f-4ca9-8d5a-2091a25fef62"
      },
      "execution_count": 71,
      "outputs": [
        {
          "output_type": "stream",
          "name": "stdout",
          "text": [
            "313/313 [==============================] - 3s 10ms/step - loss: 0.2717 - accuracy: 0.8947\n"
          ]
        },
        {
          "output_type": "execute_result",
          "data": {
            "text/plain": [
              "[0.271684855222702, 0.8946999907493591]"
            ]
          },
          "metadata": {},
          "execution_count": 71
        }
      ]
    },
    {
      "cell_type": "code",
      "source": [
        "y_pred = model_lstm_attention.predict(X_test)"
      ],
      "metadata": {
        "colab": {
          "base_uri": "https://localhost:8080/"
        },
        "id": "3RqNjvUUJa9q",
        "outputId": "6c67a5fd-7f38-448a-cb72-858bc4e299ad"
      },
      "execution_count": 72,
      "outputs": [
        {
          "output_type": "stream",
          "name": "stdout",
          "text": [
            "313/313 [==============================] - 5s 10ms/step\n"
          ]
        }
      ]
    },
    {
      "cell_type": "code",
      "source": [
        "# afficher la roc_curve\n",
        "plt.figure(figsize=(8, 8))\n",
        "fpr, tpr, thresholds = roc_curve(Y_test, y_pred)\n",
        "plt.plot(fpr, tpr, \"o\")\n",
        "plt.xlabel('False Positive Rate')\n",
        "plt.ylabel('True Positive Rate')\n",
        "plt.title('ROC Curve')\n",
        "plt.show()"
      ],
      "metadata": {
        "colab": {
          "base_uri": "https://localhost:8080/",
          "height": 718
        },
        "id": "hLHog8xPJiMm",
        "outputId": "02fe13bc-afa9-4ec3-a6aa-67277dda759f"
      },
      "execution_count": 73,
      "outputs": [
        {
          "output_type": "display_data",
          "data": {
            "text/plain": [
              "<Figure size 800x800 with 1 Axes>"
            ],
            "image/png": "[encoded data removed]"
          },
          "metadata": {}
        }
      ]
    },
    {
      "cell_type": "code",
      "source": [
        "# trouver le meilleur threshold\n",
        "best_threshold = 0\n",
        "best_f1 = 0\n",
        "\n",
        "for threshold in thresholds:\n",
        "    y_pred_binary = (y_pred > threshold).astype(int)\n",
        "    f1 = f1_score(Y_test, y_pred_binary)\n",
        "    if f1 > best_f1:\n",
        "        best_threshold = threshold\n",
        "        best_f1 = f1\n",
        "\n",
        "print(best_threshold)\n",
        "print(best_f1)"
      ],
      "metadata": {
        "colab": {
          "base_uri": "https://localhost:8080/"
        },
        "id": "LrrzP1oQJrE0",
        "outputId": "0efcb3ec-18c2-4dbe-840c-4d51d053aa1a"
      },
      "execution_count": 74,
      "outputs": [
        {
          "output_type": "stream",
          "name": "stdout",
          "text": [
            "0.47384205\n",
            "0.898590446358653\n"
          ]
        }
      ]
    },
    {
      "cell_type": "code",
      "source": [
        "# Convert predicted probabilities to binary predictions (0 or 1)\n",
        "y_pred_binary = (y_pred > best_threshold).astype(int)\n",
        "\n",
        "accuracy = accuracy_score(Y_test, y_pred_binary)\n",
        "print(accuracy)"
      ],
      "metadata": {
        "colab": {
          "base_uri": "https://localhost:8080/"
        },
        "id": "CTeVXAkJJzzl",
        "outputId": "91e25ac0-d1bc-415b-a50b-23b3d87d9da4"
      },
      "execution_count": 75,
      "outputs": [
        {
          "output_type": "stream",
          "name": "stdout",
          "text": [
            "0.8964\n"
          ]
        }
      ]
    }
  ]
}